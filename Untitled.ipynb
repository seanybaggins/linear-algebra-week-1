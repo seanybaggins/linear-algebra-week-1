{
 "cells": [
  {
   "cell_type": "markdown",
   "id": "fc2ba664",
   "metadata": {},
   "source": [
    "# Linear Algebra Week 1 testing changes\n",
    "My brother and I have decided to teach ourselves linear algebra. We plan on accomplishing this by meeting twice a week. Our first meeting is to discuss the problems that we will be tackeling throughout the week, The second is to disucss our solutions to problems.\n",
    "\n",
    "For the first week, we agreed to work on the following from the *linear algebra step by step* textbook.\n",
    "\n",
    "Exercises 1.1 Problems 1a-m\n",
    "\n",
    "Exercises 1.2 Problems 2a-b, 3a-b\n",
    "\n",
    "These problems largely look like the following\n",
    "\n",
    "$$\n",
    "\\begin{equation}\n",
    "    2x - y - 4z = 0 \\\\\n",
    "    3x + 5y + 2z = 5 \\\\\n",
    "    4x - 3y + 6z = -16 \\\\\n",
    "\\end{equation}\n",
    "$$\n",
    "\n",
    "The idea was to convert the system of equations into an augmented matrix and use elementary row opeartions a.k.a Gaus-Jordan elimination with backwards substitution in order to solve the system of equations. The first few steps looks as follows.\n",
    "\n",
    "First, representing the systems of equations as a augmented matrix\n",
    "\n",
    "$$\n",
    "\\left[\n",
    "\\begin{matrix}\n",
    "    2 & -1 & -4 \\\\\n",
    "    3 & 5 & 2 \\\\\n",
    "    4 & -3 & 6 \\\\\n",
    "\\end{matrix}\n",
    "\\middle\\vert \n",
    "\\begin{matrix}\n",
    "    0 \\\\\n",
    "    5 \\\\\n",
    "    -16 \\\\\n",
    "\\end{matrix}\n",
    "\\right]\n",
    "$$\n",
    "\n",
    "It was at this exact moment that I started to grit my teath. To solve the following system of equations using elementary row operations meant I had to do a lot of arithmatic using fractions. I started wondering, why is it important that I am able to do this? To prove I can do fractions? I don't think so.\n",
    "\n",
    "I came to the following conclusion. That a system of linear equations can be solved using the guass-jordan elemination technique. I am a fair believer that if you didn't do it, you don't truely understand it. So, I am in this posision where I think I understand the over arching concept but am to lazy to do the math by hand. What do I do? Program the computer to do it for me :). This way I will be certain I understand the concept without doing the pain staking arithmetic.\n",
    "\n",
    "So, lets begin and see if we can't make an algorithm to convert matracies into reduced row echlon form. Lets start by representing our matrix as a numpy ndarray."
   ]
  },
  {
   "cell_type": "code",
   "execution_count": 1,
   "id": "bffbea28",
   "metadata": {},
   "outputs": [
    {
     "name": "stdout",
     "output_type": "stream",
     "text": [
      "[[  2.  -1.  -4.   0.]\n",
      " [  3.   5.   2.   5.]\n",
      " [  4.  -3.   6. -16.]]\n"
     ]
    }
   ],
   "source": [
    "import numpy as np\n",
    "A = np.array([\n",
    "    [2, -1, -4, 0],\n",
    "    [3, 5, 2, 5],\n",
    "    [4, -3, 6, -16]\n",
    "], dtype='f')\n",
    "print(A)"
   ]
  },
  {
   "cell_type": "markdown",
   "id": "c8889ed7",
   "metadata": {},
   "source": [
    "In general, the idea is to get all 1's on the left diagonal and zeros below all of the ones. Let's start by reducing the 0'th row and garenteeing the first element within an matrix is equal to 1."
   ]
  },
  {
   "cell_type": "code",
   "execution_count": 2,
   "id": "d3566e9e",
   "metadata": {
    "lines_to_end_of_cell_marker": 0,
    "lines_to_next_cell": 1
   },
   "outputs": [],
   "source": [
    "class NonReducible(Exception): pass\n",
    "\n",
    "def set_leading_1_for_nth_row(A, n):\n",
    "    (rows, columns) = A.shape\n",
    "    if A[n,n] != 0:\n",
    "        A[n] = A[n]/A[n,n]\n",
    "    elif A[n,n] == 0 and rows <= n+1:\n",
    "        raise NonReducible()\n",
    "    else:\n",
    "        for row in range(n + 1, rows):\n",
    "            A[n] = A[n] + A[row]\n",
    "            if A[n, n] != 0:\n",
    "                A[n] = A[n]/A[n,n]\n",
    "                return\n",
    "        raise NonReducible()\n",
    "\n",
    "def reduced_echlon_form(A):\n",
    "    # Create a copy of A so we don't mutate it.\n",
    "    B = A.copy()\n",
    "    \n",
    "    (rows, columns) = B.shape\n",
    "    for row in range(rows):\n",
    "        set_leading_1_for_nth_row(B, row)\n",
    "        set_zeros_for_column_n_below_1(B, row)\n",
    "\n",
    "    for row in reversed(range(rows)):\n",
    "        set_zeros_for_column_n_above_1(B, row)\n",
    "    return B\n",
    "\n",
    "def set_zeros_for_column_n_above_1(A, n):\n",
    "    (rows, columns) = A.shape\n",
    "    for row in reversed(range(1, n + 1)):\n",
    "        A[row - 1] = A[row - 1] - A[n]*A[row - 1, n]\n",
    "\n",
    "def set_zeros_for_column_n_below_1(A, n):\n",
    "    (rows, columns) = A.shape\n",
    "    for row in range(n+1, rows):\n",
    "        A[row] = A[row] - A[row, n]*A[n]"
   ]
  },
  {
   "cell_type": "code",
   "execution_count": 3,
   "id": "09e4e541",
   "metadata": {},
   "outputs": [],
   "source": [
    "# Checking answers\n",
    "from sympy import Matrix"
   ]
  },
  {
   "cell_type": "code",
   "execution_count": 4,
   "id": "be3faaed",
   "metadata": {},
   "outputs": [
    {
     "name": "stdout",
     "output_type": "stream",
     "text": [
      "[[ 1.         0.         0.         0.9999995]\n",
      " [ 0.         1.         0.         3.9999998]\n",
      " [-0.        -0.         1.         1.0000002]]\n",
      "(Matrix([\n",
      "[1, 0, 0, 1.0],\n",
      "[0, 1, 0, 4.0],\n",
      "[0, 0, 1, 1.0]]), (0, 1, 2))\n"
     ]
    }
   ],
   "source": [
    "# Exercise 1.2 Problem 1a\n",
    "A = np.array([\n",
    "    [1, 2, 3, 12],\n",
    "    [2, -1, 5, 3],\n",
    "    [3, 3, 6, 21]\n",
    "], dtype='f')\n",
    "B = reduced_echlon_form(A)\n",
    "print(B)\n",
    "print(Matrix(A).rref())"
   ]
  },
  {
   "cell_type": "code",
   "execution_count": 5,
   "id": "906eba18",
   "metadata": {},
   "outputs": [
    {
     "name": "stdout",
     "output_type": "stream",
     "text": [
      "[[ 1.  0.  0. -1.]\n",
      " [ 0.  1.  0.  2.]\n",
      " [ 0.  0.  1. -1.]]\n",
      "(Matrix([\n",
      "[1, 0, 0, -1.0],\n",
      "[0, 1, 0,  2.0],\n",
      "[0, 0, 1, -1.0]]), (0, 1, 2))\n"
     ]
    }
   ],
   "source": [
    "# Exercise 1.2 Problem 2b\n",
    "A = np.array([\n",
    "    [2, -1, -4, 0],\n",
    "    [3, 5, 2, 5],\n",
    "    [4, -3, 6, -16],\n",
    "], dtype='f')\n",
    "B = reduced_echlon_form(A)\n",
    "print(B)\n",
    "print(Matrix(A).rref())"
   ]
  },
  {
   "cell_type": "code",
   "execution_count": 6,
   "id": "ae5f4222",
   "metadata": {},
   "outputs": [
    {
     "name": "stdout",
     "output_type": "stream",
     "text": [
      "[[ 1.  0.  0.  1.]\n",
      " [-0.  1.  0.  2.]\n",
      " [ 0.  0.  1.  3.]]\n",
      "(Matrix([\n",
      "[1, 0, 0, 1.0],\n",
      "[0, 1, 0, 2.0],\n",
      "[0, 0, 1, 3.0]]), (0, 1, 2))\n"
     ]
    }
   ],
   "source": [
    "# Exercise 1.2 Problem 3a\n",
    "A = np.array([\n",
    "    [1, 1, 2, 9],\n",
    "    [4, 4, -3, 3],\n",
    "    [5, 1, 2, 13]\n",
    "],dtype='f')\n",
    "B = reduced_echlon_form(A)\n",
    "print(B)\n",
    "print(Matrix(A).rref())"
   ]
  },
  {
   "cell_type": "code",
   "execution_count": 7,
   "id": "2127b374",
   "metadata": {},
   "outputs": [
    {
     "name": "stdout",
     "output_type": "stream",
     "text": [
      "[[ 1.  0.  0. -2.]\n",
      " [ 0.  1.  0.  1.]\n",
      " [-0. -0.  1. -1.]]\n",
      "(Matrix([\n",
      "[1, 0, 0, -2.0],\n",
      "[0, 1, 0,  1.0],\n",
      "[0, 0, 1, -1.0]]), (0, 1, 2))\n"
     ]
    }
   ],
   "source": [
    "# Exercise 1.2 Problem 3b\n",
    "A = np.array([\n",
    "    [1, 1, 1, -2],\n",
    "    [2, -1, -1, -4],\n",
    "    [4, 2, -3, -3]\n",
    "], dtype='f')\n",
    "B = reduced_echlon_form(A)\n",
    "print(B)\n",
    "print(Matrix(A).rref())"
   ]
  }
 ],
 "metadata": {
  "kernelspec": {
   "display_name": "Python 3 (ipykernel)",
   "language": "python",
   "name": "python3"
  },
  "language_info": {
   "codemirror_mode": {
    "name": "ipython",
    "version": 3
   },
   "file_extension": ".py",
   "mimetype": "text/x-python",
   "name": "python",
   "nbconvert_exporter": "python",
   "pygments_lexer": "ipython3",
   "version": "3.9.6"
  }
 },
 "nbformat": 4,
 "nbformat_minor": 5
}
